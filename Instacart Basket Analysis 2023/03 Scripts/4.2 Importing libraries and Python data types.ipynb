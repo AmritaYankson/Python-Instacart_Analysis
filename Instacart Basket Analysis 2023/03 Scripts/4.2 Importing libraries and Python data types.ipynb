{
 "cells": [
  {
   "cell_type": "markdown",
   "id": "686f2563",
   "metadata": {},
   "source": [
    "# 01. Importing libraries "
   ]
  },
  {
   "cell_type": "code",
   "execution_count": 28,
   "id": "f59ea08d",
   "metadata": {},
   "outputs": [],
   "source": [
    "# Import libraries \n",
    "import pandas as pd\n",
    "import numpy as np\n",
    "import os"
   ]
  },
  {
   "cell_type": "code",
   "execution_count": 2,
   "id": "4236e699",
   "metadata": {},
   "outputs": [],
   "source": [
    "x = 49"
   ]
  },
  {
   "cell_type": "code",
   "execution_count": 3,
   "id": "cfe9a8d2",
   "metadata": {},
   "outputs": [],
   "source": [
    "y = 51"
   ]
  },
  {
   "cell_type": "code",
   "execution_count": 4,
   "id": "2f644ca3",
   "metadata": {},
   "outputs": [
    {
     "data": {
      "text/plain": [
       "100"
      ]
     },
     "execution_count": 4,
     "metadata": {},
     "output_type": "execute_result"
    }
   ],
   "source": [
    "x + y"
   ]
  },
  {
   "cell_type": "code",
   "execution_count": 5,
   "id": "ea9617f0",
   "metadata": {},
   "outputs": [],
   "source": [
    "x = 185"
   ]
  },
  {
   "cell_type": "code",
   "execution_count": 6,
   "id": "ea3c9483",
   "metadata": {},
   "outputs": [],
   "source": [
    "y = 85"
   ]
  },
  {
   "cell_type": "code",
   "execution_count": 7,
   "id": "d157462f",
   "metadata": {},
   "outputs": [
    {
     "data": {
      "text/plain": [
       "100"
      ]
     },
     "execution_count": 7,
     "metadata": {},
     "output_type": "execute_result"
    }
   ],
   "source": [
    "x - y"
   ]
  },
  {
   "cell_type": "code",
   "execution_count": 8,
   "id": "d79606ee",
   "metadata": {},
   "outputs": [],
   "source": [
    "x = 50"
   ]
  },
  {
   "cell_type": "code",
   "execution_count": 9,
   "id": "f53491ca",
   "metadata": {},
   "outputs": [
    {
     "data": {
      "text/plain": [
       "100"
      ]
     },
     "execution_count": 9,
     "metadata": {},
     "output_type": "execute_result"
    }
   ],
   "source": [
    "x * 2"
   ]
  },
  {
   "cell_type": "code",
   "execution_count": 10,
   "id": "dbc0bab5",
   "metadata": {},
   "outputs": [],
   "source": [
    "y = 8.234"
   ]
  },
  {
   "cell_type": "code",
   "execution_count": 11,
   "id": "43340700",
   "metadata": {},
   "outputs": [
    {
     "data": {
      "text/plain": [
       "float"
      ]
     },
     "execution_count": 11,
     "metadata": {},
     "output_type": "execute_result"
    }
   ],
   "source": [
    "type(y)"
   ]
  },
  {
   "cell_type": "code",
   "execution_count": 12,
   "id": "4ee243cb",
   "metadata": {},
   "outputs": [],
   "source": [
    "x = 3.430"
   ]
  },
  {
   "cell_type": "code",
   "execution_count": 13,
   "id": "1a5d5b12",
   "metadata": {},
   "outputs": [
    {
     "data": {
      "text/plain": [
       "0.4165654602866165"
      ]
     },
     "execution_count": 13,
     "metadata": {},
     "output_type": "execute_result"
    }
   ],
   "source": [
    "x / y"
   ]
  },
  {
   "cell_type": "code",
   "execution_count": 14,
   "id": "62d0544e",
   "metadata": {},
   "outputs": [],
   "source": [
    "a = 'hello,'"
   ]
  },
  {
   "cell_type": "code",
   "execution_count": 15,
   "id": "56e22c7d",
   "metadata": {},
   "outputs": [],
   "source": [
    "b = 'BK'"
   ]
  },
  {
   "cell_type": "code",
   "execution_count": 16,
   "id": "45c1fcf7",
   "metadata": {},
   "outputs": [
    {
     "data": {
      "text/plain": [
       "'hello,BK'"
      ]
     },
     "execution_count": 16,
     "metadata": {},
     "output_type": "execute_result"
    }
   ],
   "source": [
    "a + b"
   ]
  },
  {
   "cell_type": "code",
   "execution_count": 22,
   "id": "1e8ca85f",
   "metadata": {},
   "outputs": [],
   "source": [
    "a = 'I need '"
   ]
  },
  {
   "cell_type": "code",
   "execution_count": 23,
   "id": "443ae6d0",
   "metadata": {},
   "outputs": [],
   "source": [
    "b = 'sleep'"
   ]
  },
  {
   "cell_type": "code",
   "execution_count": 24,
   "id": "a156daf9",
   "metadata": {},
   "outputs": [
    {
     "data": {
      "text/plain": [
       "'I need sleep'"
      ]
     },
     "execution_count": 24,
     "metadata": {},
     "output_type": "execute_result"
    }
   ],
   "source": [
    "a + b"
   ]
  },
  {
   "cell_type": "code",
   "execution_count": 25,
   "id": "9b64b169",
   "metadata": {},
   "outputs": [],
   "source": [
    "d = 'coding is '"
   ]
  },
  {
   "cell_type": "code",
   "execution_count": 26,
   "id": "d7a3bd62",
   "metadata": {},
   "outputs": [],
   "source": [
    "f = 'pretty cool'"
   ]
  },
  {
   "cell_type": "code",
   "execution_count": 27,
   "id": "795a2fd3",
   "metadata": {},
   "outputs": [
    {
     "data": {
      "text/plain": [
       "'coding is pretty cool'"
      ]
     },
     "execution_count": 27,
     "metadata": {},
     "output_type": "execute_result"
    }
   ],
   "source": [
    "d + f"
   ]
  },
  {
   "cell_type": "code",
   "execution_count": null,
   "id": "79184034",
   "metadata": {},
   "outputs": [],
   "source": []
  }
 ],
 "metadata": {
  "kernelspec": {
   "display_name": "Python 3 (ipykernel)",
   "language": "python",
   "name": "python3"
  },
  "language_info": {
   "codemirror_mode": {
    "name": "ipython",
    "version": 3
   },
   "file_extension": ".py",
   "mimetype": "text/x-python",
   "name": "python",
   "nbconvert_exporter": "python",
   "pygments_lexer": "ipython3",
   "version": "3.11.5"
  }
 },
 "nbformat": 4,
 "nbformat_minor": 5
}
