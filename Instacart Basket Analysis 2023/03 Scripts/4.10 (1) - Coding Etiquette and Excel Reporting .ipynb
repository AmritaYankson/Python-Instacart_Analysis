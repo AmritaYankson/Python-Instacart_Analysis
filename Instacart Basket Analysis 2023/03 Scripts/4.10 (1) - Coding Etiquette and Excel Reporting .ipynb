{
 "cells": [
  {
   "cell_type": "markdown",
   "id": "c20a23a9",
   "metadata": {},
   "source": [
    "# 4.10 (1) - Final Instacart Basket Analysis"
   ]
  },
  {
   "cell_type": "markdown",
   "id": "e8399033",
   "metadata": {},
   "source": [
    "### Table of Contents:\n",
    "\n",
    "#### 1. Import Libraries\n",
    "#### 2. Q1- Import Data\n",
    "#### 3. Q2- Check for security implications & Address any PII data \n",
    "#### 4. Q3- Regional Segmentation of data\n",
    "#####              - Regional Spending \n",
    "#### 5. Q4- Exclusion flag- Excluding customers with less than 5 orders\n",
    "----------------------------------------------------------------------------------------------------------"
   ]
  },
  {
   "cell_type": "markdown",
   "id": "03158589",
   "metadata": {},
   "source": [
    "### 1. Import Libraries"
   ]
  },
  {
   "cell_type": "code",
   "execution_count": 1,
   "id": "86db1b75",
   "metadata": {},
   "outputs": [],
   "source": [
    "import pandas as pd\n",
    "import numpy as np\n",
    "import os\n",
    "import matplotlib.pyplot as plt\n",
    "import seaborn as sns\n",
    "import scipy"
   ]
  },
  {
   "cell_type": "markdown",
   "id": "b7aaccd0",
   "metadata": {},
   "source": [
    "### 2. Q1- Import Data"
   ]
  },
  {
   "cell_type": "code",
   "execution_count": 2,
   "id": "6894fdd3",
   "metadata": {},
   "outputs": [],
   "source": [
    "# Create a path"
   ]
  },
  {
   "cell_type": "code",
   "execution_count": 3,
   "id": "a2e35b40",
   "metadata": {},
   "outputs": [],
   "source": [
    "path = r'/Users/amritamaniram/Desktop/Instacart Basket Analysis 2023'"
   ]
  },
  {
   "cell_type": "code",
   "execution_count": 4,
   "id": "f30bf9d8",
   "metadata": {},
   "outputs": [],
   "source": [
    "# Import dataframe from 4.9"
   ]
  },
  {
   "cell_type": "code",
   "execution_count": 5,
   "id": "07678677",
   "metadata": {},
   "outputs": [],
   "source": [
    "df_merged_all = pd.read_pickle(os.path.join(path, '02 Data', 'Prepared Data', 'merged_all.pkl'))"
   ]
  },
  {
   "cell_type": "code",
   "execution_count": 6,
   "id": "5caa1ad5",
   "metadata": {
    "scrolled": true
   },
   "outputs": [
    {
     "name": "stdout",
     "output_type": "stream",
     "text": [
      "<class 'pandas.core.frame.DataFrame'>\n",
      "RangeIndex: 32434212 entries, 0 to 32434211\n",
      "Data columns (total 33 columns):\n",
      " #   Column                         Dtype   \n",
      "---  ------                         -----   \n",
      " 0   product_id                     int64   \n",
      " 1   product_name                   object  \n",
      " 2   aisle_id                       int64   \n",
      " 3   department_id                  int64   \n",
      " 4   prices                         float64 \n",
      " 5   order_id                       object  \n",
      " 6   user_id                        object  \n",
      " 7   eval_set                       object  \n",
      " 8   order_number                   int64   \n",
      " 9   orders_day_of_week             int64   \n",
      " 10  order_hour_of_day              int64   \n",
      " 11  time_elapsed_since_last_order  float64 \n",
      " 12  add_to_cart_order              int64   \n",
      " 13  reordered                      int64   \n",
      " 14  price_range_loc                object  \n",
      " 15  busiest_day                    object  \n",
      " 16  busiest_days                   object  \n",
      " 17  busiest_period_of_day          object  \n",
      " 18  max_order                      int64   \n",
      " 19  loyalty_flag                   object  \n",
      " 20  average_spend                  float64 \n",
      " 21  spender_flag                   object  \n",
      " 22  Customer_frequency             float64 \n",
      " 23  frequency_flag                 object  \n",
      " 24  First Name                     object  \n",
      " 25  Last Name                      object  \n",
      " 26  Gender                         object  \n",
      " 27  State                          object  \n",
      " 28  Age                            int64   \n",
      " 29  Number_of_Dependants           int64   \n",
      " 30  Marital_Status                 object  \n",
      " 31  income                         int64   \n",
      " 32  _merge                         category\n",
      "dtypes: category(1), float64(4), int64(12), object(16)\n",
      "memory usage: 7.8+ GB\n"
     ]
    }
   ],
   "source": [
    "df_merged_all.info()"
   ]
  },
  {
   "cell_type": "markdown",
   "id": "dfa9d2b3",
   "metadata": {},
   "source": [
    "### 3. Q2- Check for security implications & Address any PII data"
   ]
  },
  {
   "cell_type": "code",
   "execution_count": 7,
   "id": "73475481",
   "metadata": {},
   "outputs": [],
   "source": [
    "# Remove first name and last name from df"
   ]
  },
  {
   "cell_type": "code",
   "execution_count": 8,
   "id": "586386d9",
   "metadata": {},
   "outputs": [],
   "source": [
    "# Assign new df without first and last name"
   ]
  },
  {
   "cell_type": "code",
   "execution_count": 9,
   "id": "d373ae34",
   "metadata": {},
   "outputs": [],
   "source": [
    "df_all_2 = df_merged_all.drop(['First Name', 'Last Name'], axis=1)"
   ]
  },
  {
   "cell_type": "code",
   "execution_count": 10,
   "id": "1dd6be67",
   "metadata": {},
   "outputs": [],
   "source": [
    "# verify update"
   ]
  },
  {
   "cell_type": "code",
   "execution_count": 11,
   "id": "4e7e1c07",
   "metadata": {
    "scrolled": true
   },
   "outputs": [
    {
     "name": "stdout",
     "output_type": "stream",
     "text": [
      "<class 'pandas.core.frame.DataFrame'>\n",
      "RangeIndex: 32434212 entries, 0 to 32434211\n",
      "Data columns (total 31 columns):\n",
      " #   Column                         Dtype   \n",
      "---  ------                         -----   \n",
      " 0   product_id                     int64   \n",
      " 1   product_name                   object  \n",
      " 2   aisle_id                       int64   \n",
      " 3   department_id                  int64   \n",
      " 4   prices                         float64 \n",
      " 5   order_id                       object  \n",
      " 6   user_id                        object  \n",
      " 7   eval_set                       object  \n",
      " 8   order_number                   int64   \n",
      " 9   orders_day_of_week             int64   \n",
      " 10  order_hour_of_day              int64   \n",
      " 11  time_elapsed_since_last_order  float64 \n",
      " 12  add_to_cart_order              int64   \n",
      " 13  reordered                      int64   \n",
      " 14  price_range_loc                object  \n",
      " 15  busiest_day                    object  \n",
      " 16  busiest_days                   object  \n",
      " 17  busiest_period_of_day          object  \n",
      " 18  max_order                      int64   \n",
      " 19  loyalty_flag                   object  \n",
      " 20  average_spend                  float64 \n",
      " 21  spender_flag                   object  \n",
      " 22  Customer_frequency             float64 \n",
      " 23  frequency_flag                 object  \n",
      " 24  Gender                         object  \n",
      " 25  State                          object  \n",
      " 26  Age                            int64   \n",
      " 27  Number_of_Dependants           int64   \n",
      " 28  Marital_Status                 object  \n",
      " 29  income                         int64   \n",
      " 30  _merge                         category\n",
      "dtypes: category(1), float64(4), int64(12), object(14)\n",
      "memory usage: 7.3+ GB\n"
     ]
    }
   ],
   "source": [
    "df_all_2.info()"
   ]
  },
  {
   "cell_type": "code",
   "execution_count": 12,
   "id": "84002e90",
   "metadata": {},
   "outputs": [],
   "source": [
    "# Successfully removed first and last name"
   ]
  },
  {
   "cell_type": "markdown",
   "id": "9369e40b",
   "metadata": {},
   "source": [
    "### 4. Q3- Regional Segmentation of data"
   ]
  },
  {
   "cell_type": "code",
   "execution_count": 13,
   "id": "e31ecc0b",
   "metadata": {},
   "outputs": [],
   "source": [
    "# Create a 'region'column based on the 'state'"
   ]
  },
  {
   "cell_type": "markdown",
   "id": "0d5f284c",
   "metadata": {},
   "source": [
    "https://simple.wikipedia.org/wiki/List_of_regions_of_the_United_States\n",
    "- ^ Resource used."
   ]
  },
  {
   "cell_type": "code",
   "execution_count": 14,
   "id": "8e6da9d1",
   "metadata": {},
   "outputs": [],
   "source": [
    "# Northeast Region"
   ]
  },
  {
   "cell_type": "code",
   "execution_count": 15,
   "id": "dd56212f",
   "metadata": {},
   "outputs": [],
   "source": [
    "df_all_2.loc[(df_all_2['State'] == 'Maine') | \n",
    "             (df_all_2['State'] == 'New Hampshire') | \n",
    "             (df_all_2['State'] == 'Vermont') | \n",
    "             (df_all_2['State'] == 'Massachusetts') | \n",
    "             (df_all_2['State'] == 'Rhode Island') | \n",
    "             (df_all_2['State'] == 'Connecticut')|\n",
    "             (df_all_2['State'] == 'New York')|\n",
    "             (df_all_2['State'] == 'Pennsylvania')|\n",
    "             (df_all_2['State'] == 'New Jersey'), 'Region'] = 'Northeast'"
   ]
  },
  {
   "cell_type": "code",
   "execution_count": 16,
   "id": "86efd61a",
   "metadata": {},
   "outputs": [],
   "source": [
    "# Midwest Region"
   ]
  },
  {
   "cell_type": "code",
   "execution_count": 17,
   "id": "8d886c44",
   "metadata": {},
   "outputs": [],
   "source": [
    "df_all_2.loc[(df_all_2['State'] == 'Wisconsin') | \n",
    "             (df_all_2['State'] == 'Michigan') | \n",
    "             (df_all_2['State'] == 'Illinois') | \n",
    "             (df_all_2['State'] == 'Indiana') | \n",
    "             (df_all_2['State'] == 'Ohio') | \n",
    "             (df_all_2['State'] == 'North Dakota') |\n",
    "             (df_all_2['State'] == 'Nebraska') |\n",
    "             (df_all_2['State'] == 'Kansas') |\n",
    "             (df_all_2['State'] == 'Minnesota') |\n",
    "             (df_all_2['State'] == 'Iowa') |\n",
    "             (df_all_2['State'] == 'Missouri'), 'Region'] = 'Midwest'\n"
   ]
  },
  {
   "cell_type": "code",
   "execution_count": 18,
   "id": "b44b88d2",
   "metadata": {},
   "outputs": [],
   "source": [
    "# South Region"
   ]
  },
  {
   "cell_type": "code",
   "execution_count": 19,
   "id": "e49033bf",
   "metadata": {},
   "outputs": [],
   "source": [
    "df_all_2.loc[(df_all_2['State'] == 'Delaware') | \n",
    "             (df_all_2['State'] == 'Maryland') | \n",
    "             (df_all_2['State'] == 'District of Columbia') | \n",
    "             (df_all_2['State'] == 'Virginia') | \n",
    "             (df_all_2['State'] == 'West Virginia') | \n",
    "             (df_all_2['State'] == 'North Carolina') |\n",
    "             (df_all_2['State'] == 'South Carolina') |\n",
    "             (df_all_2['State'] == 'Georgia') |\n",
    "             (df_all_2['State'] == 'Florida') |\n",
    "             (df_all_2['State'] == 'Kentucky') |\n",
    "             (df_all_2['State'] == 'Tennessee') |\n",
    "             (df_all_2['State'] == 'Mississippi') |\n",
    "             (df_all_2['State'] == 'Alabama') |\n",
    "             (df_all_2['State'] == 'Oklahoma') |\n",
    "             (df_all_2['State'] == 'Texas') |\n",
    "             (df_all_2['State'] == 'Arkansas') |\n",
    "             (df_all_2['State'] == 'Louisiana'), 'Region'] = 'South'"
   ]
  },
  {
   "cell_type": "code",
   "execution_count": 20,
   "id": "6deee521",
   "metadata": {},
   "outputs": [],
   "source": [
    "# West Region"
   ]
  },
  {
   "cell_type": "code",
   "execution_count": 21,
   "id": "7dde4987",
   "metadata": {},
   "outputs": [],
   "source": [
    "df_all_2.loc[(df_all_2['State'] == 'Idaho') | \n",
    "             (df_all_2['State'] == 'Montana') | \n",
    "             (df_all_2['State'] == 'Wyoming') | \n",
    "             (df_all_2['State'] == 'Nevada') | \n",
    "             (df_all_2['State'] == 'Utah') | \n",
    "             (df_all_2['State'] == 'Colorado') |\n",
    "             (df_all_2['State'] == 'Arizona') |\n",
    "             (df_all_2['State'] == 'New Mexico') |\n",
    "             (df_all_2['State'] == 'Alaska') |\n",
    "             (df_all_2['State'] == 'Washington') |\n",
    "             (df_all_2['State'] == 'Oregon') |\n",
    "             (df_all_2['State'] == 'California') |\n",
    "             (df_all_2['State'] == 'Hawaii'), 'Region'] = 'West'"
   ]
  },
  {
   "cell_type": "code",
   "execution_count": 22,
   "id": "f87803ac",
   "metadata": {},
   "outputs": [],
   "source": [
    "# Verify update"
   ]
  },
  {
   "cell_type": "code",
   "execution_count": 23,
   "id": "41ca05b0",
   "metadata": {
    "scrolled": true
   },
   "outputs": [
    {
     "name": "stdout",
     "output_type": "stream",
     "text": [
      "<class 'pandas.core.frame.DataFrame'>\n",
      "RangeIndex: 32434212 entries, 0 to 32434211\n",
      "Data columns (total 32 columns):\n",
      " #   Column                         Dtype   \n",
      "---  ------                         -----   \n",
      " 0   product_id                     int64   \n",
      " 1   product_name                   object  \n",
      " 2   aisle_id                       int64   \n",
      " 3   department_id                  int64   \n",
      " 4   prices                         float64 \n",
      " 5   order_id                       object  \n",
      " 6   user_id                        object  \n",
      " 7   eval_set                       object  \n",
      " 8   order_number                   int64   \n",
      " 9   orders_day_of_week             int64   \n",
      " 10  order_hour_of_day              int64   \n",
      " 11  time_elapsed_since_last_order  float64 \n",
      " 12  add_to_cart_order              int64   \n",
      " 13  reordered                      int64   \n",
      " 14  price_range_loc                object  \n",
      " 15  busiest_day                    object  \n",
      " 16  busiest_days                   object  \n",
      " 17  busiest_period_of_day          object  \n",
      " 18  max_order                      int64   \n",
      " 19  loyalty_flag                   object  \n",
      " 20  average_spend                  float64 \n",
      " 21  spender_flag                   object  \n",
      " 22  Customer_frequency             float64 \n",
      " 23  frequency_flag                 object  \n",
      " 24  Gender                         object  \n",
      " 25  State                          object  \n",
      " 26  Age                            int64   \n",
      " 27  Number_of_Dependants           int64   \n",
      " 28  Marital_Status                 object  \n",
      " 29  income                         int64   \n",
      " 30  _merge                         category\n",
      " 31  Region                         object  \n",
      "dtypes: category(1), float64(4), int64(12), object(15)\n",
      "memory usage: 7.5+ GB\n"
     ]
    }
   ],
   "source": [
    "df_all_2.info()"
   ]
  },
  {
   "cell_type": "code",
   "execution_count": 24,
   "id": "9088e20c",
   "metadata": {
    "scrolled": false
   },
   "outputs": [
    {
     "data": {
      "text/plain": [
       "Region\n",
       "South        10801610\n",
       "West          8300445\n",
       "Midwest       6969470\n",
       "Northeast     5728347\n",
       "nan            634340\n",
       "Name: count, dtype: int64"
      ]
     },
     "execution_count": 24,
     "metadata": {},
     "output_type": "execute_result"
    }
   ],
   "source": [
    "df_all_2['Region'].value_counts(dropna = False)"
   ]
  },
  {
   "cell_type": "code",
   "execution_count": 25,
   "id": "22d2d361",
   "metadata": {},
   "outputs": [],
   "source": [
    "# Successful update"
   ]
  },
  {
   "cell_type": "markdown",
   "id": "c9f1b093",
   "metadata": {},
   "source": [
    "### - Is there a difference in spending habits between different U.S. regions?"
   ]
  },
  {
   "cell_type": "code",
   "execution_count": 26,
   "id": "1c182783",
   "metadata": {},
   "outputs": [],
   "source": [
    "# Create crosstab to act as pivot table "
   ]
  },
  {
   "cell_type": "code",
   "execution_count": 27,
   "id": "fe0d02b9",
   "metadata": {},
   "outputs": [],
   "source": [
    "pivot_region_spending = pd.crosstab(df_all_2['Region'], df_all_2['spender_flag'], dropna = False)"
   ]
  },
  {
   "cell_type": "code",
   "execution_count": 28,
   "id": "0eae866c",
   "metadata": {},
   "outputs": [],
   "source": [
    "# View results "
   ]
  },
  {
   "cell_type": "code",
   "execution_count": 29,
   "id": "b4788a6f",
   "metadata": {},
   "outputs": [
    {
     "data": {
      "text/html": [
       "<div>\n",
       "<style scoped>\n",
       "    .dataframe tbody tr th:only-of-type {\n",
       "        vertical-align: middle;\n",
       "    }\n",
       "\n",
       "    .dataframe tbody tr th {\n",
       "        vertical-align: top;\n",
       "    }\n",
       "\n",
       "    .dataframe thead th {\n",
       "        text-align: right;\n",
       "    }\n",
       "</style>\n",
       "<table border=\"1\" class=\"dataframe\">\n",
       "  <thead>\n",
       "    <tr style=\"text-align: right;\">\n",
       "      <th>spender_flag</th>\n",
       "      <th>High_spender</th>\n",
       "      <th>Low_spender</th>\n",
       "    </tr>\n",
       "    <tr>\n",
       "      <th>Region</th>\n",
       "      <th></th>\n",
       "      <th></th>\n",
       "    </tr>\n",
       "  </thead>\n",
       "  <tbody>\n",
       "    <tr>\n",
       "      <th>Midwest</th>\n",
       "      <td>140830</td>\n",
       "      <td>6828640</td>\n",
       "    </tr>\n",
       "    <tr>\n",
       "      <th>Northeast</th>\n",
       "      <td>108343</td>\n",
       "      <td>5620004</td>\n",
       "    </tr>\n",
       "    <tr>\n",
       "      <th>South</th>\n",
       "      <td>210182</td>\n",
       "      <td>10591428</td>\n",
       "    </tr>\n",
       "    <tr>\n",
       "      <th>West</th>\n",
       "      <td>160807</td>\n",
       "      <td>8139638</td>\n",
       "    </tr>\n",
       "    <tr>\n",
       "      <th>nan</th>\n",
       "      <td>15299</td>\n",
       "      <td>619041</td>\n",
       "    </tr>\n",
       "  </tbody>\n",
       "</table>\n",
       "</div>"
      ],
      "text/plain": [
       "spender_flag  High_spender  Low_spender\n",
       "Region                                 \n",
       "Midwest             140830      6828640\n",
       "Northeast           108343      5620004\n",
       "South               210182     10591428\n",
       "West                160807      8139638\n",
       "nan                  15299       619041"
      ]
     },
     "execution_count": 29,
     "metadata": {},
     "output_type": "execute_result"
    }
   ],
   "source": [
    "pivot_region_spending"
   ]
  },
  {
   "cell_type": "code",
   "execution_count": 30,
   "id": "b2503ae1",
   "metadata": {},
   "outputs": [],
   "source": [
    "# Create bar chart for easy view of spending"
   ]
  },
  {
   "cell_type": "code",
   "execution_count": 31,
   "id": "84cdaa44",
   "metadata": {
    "scrolled": false
   },
   "outputs": [
    {
     "data": {
      "image/png": "[encoded data removed]",
      "text/plain": [
       "<Figure size 640x480 with 1 Axes>"
      ]
     },
     "metadata": {},
     "output_type": "display_data"
    }
   ],
   "source": [
    "bar_region_spender = pivot_region_spending.plot.bar()"
   ]
  },
  {
   "cell_type": "markdown",
   "id": "52150097",
   "metadata": {},
   "source": [
    "### * Exporting Chart"
   ]
  },
  {
   "cell_type": "code",
   "execution_count": 32,
   "id": "c7560275",
   "metadata": {},
   "outputs": [],
   "source": [
    "bar_region_spender.figure.savefig(os.path.join(path, '04 Analysis', 'Visualizations', 'bar_spending_by_region.png'))"
   ]
  },
  {
   "cell_type": "code",
   "execution_count": 33,
   "id": "d09eb9f0",
   "metadata": {},
   "outputs": [],
   "source": [
    "# Create separate bar charts to see 'high spender' and 'low spender' separately"
   ]
  },
  {
   "cell_type": "code",
   "execution_count": 34,
   "id": "c5a5168c",
   "metadata": {},
   "outputs": [],
   "source": [
    "# I excluded nan from the following visualizations "
   ]
  },
  {
   "cell_type": "markdown",
   "id": "7abe9afb",
   "metadata": {},
   "source": [
    "### High spenders"
   ]
  },
  {
   "cell_type": "code",
   "execution_count": 35,
   "id": "b1caf701",
   "metadata": {
    "scrolled": false
   },
   "outputs": [
    {
     "data": {
      "image/png": "[encoded data removed]",
      "text/plain": [
       "<Figure size 1000x500 with 1 Axes>"
      ]
     },
     "metadata": {},
     "output_type": "display_data"
    }
   ],
   "source": [
    "data = {\n",
    "    'Midwest': {'High_spender': 140830, 'Low_spender': 6828640},\n",
    "    'Northeast': {'High_spender': 108343, 'Low_spender': 5620004},\n",
    "    'South': {'High_spender': 210182, 'Low_spender': 10591428},\n",
    "    'West': {'High_spender': 160807, 'Low_spender': 8139638},\n",
    "}\n",
    "\n",
    "# Convert data to lists\n",
    "regions = list(data.keys())\n",
    "high_spender_values = [data[region]['High_spender'] for region in regions]\n",
    "low_spender_values = [data[region]['Low_spender'] for region in regions]\n",
    "\n",
    "# Bar chart for High Spender\n",
    "plt.figure(figsize=(10, 5))\n",
    "plt.bar(regions, high_spender_values, color='blue')\n",
    "plt.xlabel('Region')\n",
    "plt.ylabel('High Spender Count')\n",
    "plt.title('High Spenders by Region')\n",
    "plt.show()\n"
   ]
  },
  {
   "cell_type": "markdown",
   "id": "1abd865e",
   "metadata": {},
   "source": [
    "### * Export Chart"
   ]
  },
  {
   "cell_type": "code",
   "execution_count": 36,
   "id": "8b321858",
   "metadata": {},
   "outputs": [
    {
     "data": {
      "text/plain": [
       "<Figure size 640x480 with 0 Axes>"
      ]
     },
     "metadata": {},
     "output_type": "display_data"
    }
   ],
   "source": [
    "# Save the figure\n",
    "path = r'/Users/amritamaniram/Desktop/Instacart Basket Analysis 2023'  \n",
    "file_name = 'bar_high_spender_by_region.png'\n",
    "file_path = os.path.join(path, '04 Analysis', 'Visualizations', file_name)\n",
    "plt.savefig(file_path)"
   ]
  },
  {
   "cell_type": "markdown",
   "id": "099c39e3",
   "metadata": {},
   "source": [
    "### Low spenders"
   ]
  },
  {
   "cell_type": "code",
   "execution_count": 37,
   "id": "c3f8f764",
   "metadata": {},
   "outputs": [
    {
     "data": {
      "image/png": "[encoded data removed]",
      "text/plain": [
       "<Figure size 1000x500 with 1 Axes>"
      ]
     },
     "metadata": {},
     "output_type": "display_data"
    }
   ],
   "source": [
    "data_2 = {\n",
    "    'Midwest': {'High_spender': 140830, 'Low_spender': 6828640},\n",
    "    'Northeast': {'High_spender': 108343, 'Low_spender': 5620004},\n",
    "    'South': {'High_spender': 210182, 'Low_spender': 10591428},\n",
    "    'West': {'High_spender': 160807, 'Low_spender': 8139638},\n",
    "}\n",
    "\n",
    "# Convert data to lists\n",
    "regions = list(data.keys())\n",
    "high_spender_values = [data[region]['High_spender'] for region in regions]\n",
    "low_spender_values = [data[region]['Low_spender'] for region in regions]\n",
    "\n",
    "\n",
    "# Bar chart for Low Spender\n",
    "plt.figure(figsize=(10, 5))\n",
    "plt.bar(regions, low_spender_values, color='orange')\n",
    "plt.xlabel('Region')\n",
    "plt.ylabel('Low Spender Count')\n",
    "plt.title('Low Spenders by Region')\n",
    "plt.show()"
   ]
  },
  {
   "cell_type": "markdown",
   "id": "8e2aff75",
   "metadata": {},
   "source": [
    "### * Export Chart"
   ]
  },
  {
   "cell_type": "code",
   "execution_count": 38,
   "id": "7a6faa3b",
   "metadata": {},
   "outputs": [
    {
     "data": {
      "text/plain": [
       "<Figure size 640x480 with 0 Axes>"
      ]
     },
     "metadata": {},
     "output_type": "display_data"
    }
   ],
   "source": [
    "# Save the figure\n",
    "path = r'/Users/amritamaniram/Desktop/Instacart Basket Analysis 2023'  \n",
    "file_name_2 = 'bar_low_spender_by_region.png'\n",
    "file_path = os.path.join(path, '04 Analysis', 'Visualizations', file_name_2)\n",
    "plt.savefig(file_path)"
   ]
  },
  {
   "cell_type": "markdown",
   "id": "79337a5b",
   "metadata": {},
   "source": [
    "## Findings: \n",
    "#### High spenders by region (highest to lowest):\n",
    " South, West, Midwest, Northeast\n",
    "#### Low spenders by region (highest to lowest):\n",
    "South, West, Midwest, Northeast\n"
   ]
  },
  {
   "cell_type": "markdown",
   "id": "0e17c68b",
   "metadata": {},
   "source": [
    "### 5. Q4- Exclusion flag- Excluding customers with less than 5 orders"
   ]
  },
  {
   "cell_type": "code",
   "execution_count": 39,
   "id": "7aa0eeff",
   "metadata": {},
   "outputs": [],
   "source": [
    "# Create exclusion flag for low activity customers"
   ]
  },
  {
   "cell_type": "code",
   "execution_count": 40,
   "id": "937d0bcc",
   "metadata": {},
   "outputs": [],
   "source": [
    "df_all_2.loc[df_all_2['max_order'] >= 5, 'exclusion_flag'] = 'Include'\n",
    "df_all_2.loc[df_all_2['max_order'] < 5, 'exclusion_flag'] = 'Exclude'"
   ]
  },
  {
   "cell_type": "code",
   "execution_count": 41,
   "id": "f509c8bf",
   "metadata": {},
   "outputs": [],
   "source": [
    "# Verify update"
   ]
  },
  {
   "cell_type": "code",
   "execution_count": 42,
   "id": "9c2b0101",
   "metadata": {},
   "outputs": [
    {
     "data": {
      "text/plain": [
       "exclusion_flag\n",
       "Include    30992664\n",
       "Exclude     1441548\n",
       "Name: count, dtype: int64"
      ]
     },
     "execution_count": 42,
     "metadata": {},
     "output_type": "execute_result"
    }
   ],
   "source": [
    "df_all_2['exclusion_flag'].value_counts(dropna = False)"
   ]
  },
  {
   "cell_type": "code",
   "execution_count": 43,
   "id": "3fe8536b",
   "metadata": {},
   "outputs": [],
   "source": [
    "# >= 5"
   ]
  },
  {
   "cell_type": "code",
   "execution_count": 44,
   "id": "d94605ab",
   "metadata": {
    "scrolled": true
   },
   "outputs": [
    {
     "data": {
      "text/html": [
       "<div>\n",
       "<style scoped>\n",
       "    .dataframe tbody tr th:only-of-type {\n",
       "        vertical-align: middle;\n",
       "    }\n",
       "\n",
       "    .dataframe tbody tr th {\n",
       "        vertical-align: top;\n",
       "    }\n",
       "\n",
       "    .dataframe thead th {\n",
       "        text-align: right;\n",
       "    }\n",
       "</style>\n",
       "<table border=\"1\" class=\"dataframe\">\n",
       "  <thead>\n",
       "    <tr style=\"text-align: right;\">\n",
       "      <th></th>\n",
       "      <th>max_order</th>\n",
       "      <th>exclusion_flag</th>\n",
       "    </tr>\n",
       "  </thead>\n",
       "  <tbody>\n",
       "    <tr>\n",
       "      <th>0</th>\n",
       "      <td>32</td>\n",
       "      <td>Include</td>\n",
       "    </tr>\n",
       "    <tr>\n",
       "      <th>1</th>\n",
       "      <td>32</td>\n",
       "      <td>Include</td>\n",
       "    </tr>\n",
       "    <tr>\n",
       "      <th>2</th>\n",
       "      <td>32</td>\n",
       "      <td>Include</td>\n",
       "    </tr>\n",
       "    <tr>\n",
       "      <th>3</th>\n",
       "      <td>32</td>\n",
       "      <td>Include</td>\n",
       "    </tr>\n",
       "    <tr>\n",
       "      <th>4</th>\n",
       "      <td>32</td>\n",
       "      <td>Include</td>\n",
       "    </tr>\n",
       "  </tbody>\n",
       "</table>\n",
       "</div>"
      ],
      "text/plain": [
       "   max_order exclusion_flag\n",
       "0         32        Include\n",
       "1         32        Include\n",
       "2         32        Include\n",
       "3         32        Include\n",
       "4         32        Include"
      ]
     },
     "execution_count": 44,
     "metadata": {},
     "output_type": "execute_result"
    }
   ],
   "source": [
    "df_all_2[['max_order', 'exclusion_flag']].head()"
   ]
  },
  {
   "cell_type": "code",
   "execution_count": 45,
   "id": "43d8ff85",
   "metadata": {},
   "outputs": [],
   "source": [
    "# < 5"
   ]
  },
  {
   "cell_type": "code",
   "execution_count": 46,
   "id": "0d075d28",
   "metadata": {},
   "outputs": [
    {
     "data": {
      "text/html": [
       "<div>\n",
       "<style scoped>\n",
       "    .dataframe tbody tr th:only-of-type {\n",
       "        vertical-align: middle;\n",
       "    }\n",
       "\n",
       "    .dataframe tbody tr th {\n",
       "        vertical-align: top;\n",
       "    }\n",
       "\n",
       "    .dataframe thead th {\n",
       "        text-align: right;\n",
       "    }\n",
       "</style>\n",
       "<table border=\"1\" class=\"dataframe\">\n",
       "  <thead>\n",
       "    <tr style=\"text-align: right;\">\n",
       "      <th></th>\n",
       "      <th>max_order</th>\n",
       "      <th>exclusion_flag</th>\n",
       "    </tr>\n",
       "  </thead>\n",
       "  <tbody>\n",
       "    <tr>\n",
       "      <th>32434207</th>\n",
       "      <td>3</td>\n",
       "      <td>Exclude</td>\n",
       "    </tr>\n",
       "    <tr>\n",
       "      <th>32434208</th>\n",
       "      <td>4</td>\n",
       "      <td>Exclude</td>\n",
       "    </tr>\n",
       "    <tr>\n",
       "      <th>32434209</th>\n",
       "      <td>4</td>\n",
       "      <td>Exclude</td>\n",
       "    </tr>\n",
       "    <tr>\n",
       "      <th>32434210</th>\n",
       "      <td>4</td>\n",
       "      <td>Exclude</td>\n",
       "    </tr>\n",
       "    <tr>\n",
       "      <th>32434211</th>\n",
       "      <td>4</td>\n",
       "      <td>Exclude</td>\n",
       "    </tr>\n",
       "  </tbody>\n",
       "</table>\n",
       "</div>"
      ],
      "text/plain": [
       "          max_order exclusion_flag\n",
       "32434207          3        Exclude\n",
       "32434208          4        Exclude\n",
       "32434209          4        Exclude\n",
       "32434210          4        Exclude\n",
       "32434211          4        Exclude"
      ]
     },
     "execution_count": 46,
     "metadata": {},
     "output_type": "execute_result"
    }
   ],
   "source": [
    "df_all_2[['max_order', 'exclusion_flag']].tail()"
   ]
  },
  {
   "cell_type": "code",
   "execution_count": 47,
   "id": "f0da2f2b",
   "metadata": {},
   "outputs": [],
   "source": [
    "# Successful exclustion flag"
   ]
  },
  {
   "cell_type": "code",
   "execution_count": 48,
   "id": "15d5f872",
   "metadata": {},
   "outputs": [],
   "source": [
    "# Create subset to exclude low spenders"
   ]
  },
  {
   "cell_type": "code",
   "execution_count": 49,
   "id": "12361a4d",
   "metadata": {},
   "outputs": [],
   "source": [
    "df_all_2_exclude = df_all_2[df_all_2['exclusion_flag'] == 'Exclude']"
   ]
  },
  {
   "cell_type": "code",
   "execution_count": 50,
   "id": "2a744dd1",
   "metadata": {},
   "outputs": [],
   "source": [
    "# Verify update"
   ]
  },
  {
   "cell_type": "code",
   "execution_count": 51,
   "id": "fac7ba2a",
   "metadata": {
    "scrolled": true
   },
   "outputs": [
    {
     "name": "stdout",
     "output_type": "stream",
     "text": [
      "          product_id                            product_name  aisle_id  \\\n",
      "340                1              Chocolate Sandwich Cookies        61   \n",
      "341                1              Chocolate Sandwich Cookies        61   \n",
      "342             3260  Chips Ahoy!/Nutter Butter/Oreo Cookies        61   \n",
      "343             3260  Chips Ahoy!/Nutter Butter/Oreo Cookies        61   \n",
      "344             3260  Chips Ahoy!/Nutter Butter/Oreo Cookies        61   \n",
      "...              ...                                     ...       ...   \n",
      "32434207       49235                     Organic Half & Half        53   \n",
      "32434208       49520                  Orange Sparkling Water       115   \n",
      "32434209       49520                  Orange Sparkling Water       115   \n",
      "32434210       49520                  Orange Sparkling Water       115   \n",
      "32434211       49520                  Orange Sparkling Water       115   \n",
      "\n",
      "          department_id  prices order_id user_id eval_set  order_number  \\\n",
      "340                  19     5.8   652770     764    prior             1   \n",
      "341                  19     5.8  1813452     764    prior             3   \n",
      "342                  19     1.7   652770     764    prior             1   \n",
      "343                  19     1.7   705212     764    prior             2   \n",
      "344                  19     1.7  1813452     764    prior             3   \n",
      "...                 ...     ...      ...     ...      ...           ...   \n",
      "32434207             16     1.8  2542346   80734    prior             3   \n",
      "32434208              7     7.5  1363278   74506    prior             1   \n",
      "32434209              7     7.5  2008002   74506    prior             2   \n",
      "32434210              7     7.5  1595973   74506    prior             3   \n",
      "32434211              7     7.5  1680478   74506    prior             4   \n",
      "\n",
      "          orders_day_of_week  ...         frequency_flag  Gender      State  \\\n",
      "340                        3  ...      Frequent Customer  Female  Wisconsin   \n",
      "341                        4  ...      Frequent Customer  Female  Wisconsin   \n",
      "342                        3  ...      Frequent Customer  Female  Wisconsin   \n",
      "343                        2  ...      Frequent Customer  Female  Wisconsin   \n",
      "344                        4  ...      Frequent Customer  Female  Wisconsin   \n",
      "...                      ...  ...                    ...     ...        ...   \n",
      "32434207                   3  ...  Non_frequent_customer    Male    Alabama   \n",
      "32434208                   1  ...       Regular customer    Male    Vermont   \n",
      "32434209                   0  ...       Regular customer    Male    Vermont   \n",
      "32434210                   1  ...       Regular customer    Male    Vermont   \n",
      "32434211                   0  ...       Regular customer    Male    Vermont   \n",
      "\n",
      "          Age Number_of_Dependants Marital_Status income _merge     Region  \\\n",
      "340        40                    3        married  31308   both    Midwest   \n",
      "341        40                    3        married  31308   both    Midwest   \n",
      "342        40                    3        married  31308   both    Midwest   \n",
      "343        40                    3        married  31308   both    Midwest   \n",
      "344        40                    3        married  31308   both    Midwest   \n",
      "...       ...                  ...            ...    ...    ...        ...   \n",
      "32434207   45                    1        married  41072   both      South   \n",
      "32434208   44                    3        married  97209   both  Northeast   \n",
      "32434209   44                    3        married  97209   both  Northeast   \n",
      "32434210   44                    3        married  97209   both  Northeast   \n",
      "32434211   44                    3        married  97209   both  Northeast   \n",
      "\n",
      "         exclusion_flag  \n",
      "340             Exclude  \n",
      "341             Exclude  \n",
      "342             Exclude  \n",
      "343             Exclude  \n",
      "344             Exclude  \n",
      "...                 ...  \n",
      "32434207        Exclude  \n",
      "32434208        Exclude  \n",
      "32434209        Exclude  \n",
      "32434210        Exclude  \n",
      "32434211        Exclude  \n",
      "\n",
      "[1441548 rows x 33 columns]\n"
     ]
    }
   ],
   "source": [
    "print(df_all_2_exclude)\n"
   ]
  },
  {
   "cell_type": "code",
   "execution_count": 52,
   "id": "70dcf632",
   "metadata": {},
   "outputs": [],
   "source": [
    "# Successful update"
   ]
  },
  {
   "cell_type": "markdown",
   "id": "942389cb",
   "metadata": {},
   "source": [
    "##### Export file"
   ]
  },
  {
   "cell_type": "code",
   "execution_count": 53,
   "id": "85178377",
   "metadata": {},
   "outputs": [],
   "source": [
    "df_all_2_exclude.to_pickle(os.path.join(path, '02 Data', 'Prepared Data', 'low_spender_exclusions.pkl'))"
   ]
  },
  {
   "cell_type": "code",
   "execution_count": 54,
   "id": "c8c06028",
   "metadata": {},
   "outputs": [],
   "source": [
    "# Remove exclusions"
   ]
  },
  {
   "cell_type": "code",
   "execution_count": 55,
   "id": "f052c9a3",
   "metadata": {},
   "outputs": [],
   "source": [
    "df_all_2_include = df_all_2[df_all_2['exclusion_flag'] == 'Include']"
   ]
  },
  {
   "cell_type": "code",
   "execution_count": 56,
   "id": "983b3001",
   "metadata": {
    "scrolled": true
   },
   "outputs": [
    {
     "name": "stdout",
     "output_type": "stream",
     "text": [
      "          product_id                product_name  aisle_id  department_id  \\\n",
      "0                  1  Chocolate Sandwich Cookies        61             19   \n",
      "1                  1  Chocolate Sandwich Cookies        61             19   \n",
      "2                907        Premium Sliced Bacon       106             12   \n",
      "3                907        Premium Sliced Bacon       106             12   \n",
      "4               1000                    Apricots        18             10   \n",
      "...              ...                         ...       ...            ...   \n",
      "32434196       49235         Organic Half & Half        53             16   \n",
      "32434197       49235         Organic Half & Half        53             16   \n",
      "32434198       49235         Organic Half & Half        53             16   \n",
      "32434199       49235         Organic Half & Half        53             16   \n",
      "32434200       49235         Organic Half & Half        53             16   \n",
      "\n",
      "          prices order_id user_id eval_set  order_number  orders_day_of_week  \\\n",
      "0            5.8  3139998     138    prior            28                   6   \n",
      "1            5.8  1977647     138    prior            30                   6   \n",
      "2           20.0  3160996     138    prior             1                   5   \n",
      "3           20.0  2254091     138    prior            10                   5   \n",
      "4           12.9   505689     138    prior             9                   6   \n",
      "...          ...      ...     ...      ...           ...                 ...   \n",
      "32434196     1.8  3310701   27382    prior             5                   3   \n",
      "32434197     1.8   527883   27382    prior             6                   1   \n",
      "32434198     1.8   685496   27382    prior             7                   4   \n",
      "32434199     1.8  1224680   27382    prior             8                   1   \n",
      "32434200     1.8  2223687   27382    prior             9                   2   \n",
      "\n",
      "          ...     frequency_flag  Gender      State  Age Number_of_Dependants  \\\n",
      "0         ...  Frequent Customer    Male  Minnesota   81                    1   \n",
      "1         ...  Frequent Customer    Male  Minnesota   81                    1   \n",
      "2         ...  Frequent Customer    Male  Minnesota   81                    1   \n",
      "3         ...  Frequent Customer    Male  Minnesota   81                    1   \n",
      "4         ...  Frequent Customer    Male  Minnesota   81                    1   \n",
      "...       ...                ...     ...        ...  ...                  ...   \n",
      "32434196  ...   Regular customer  Female    Vermont   68                    3   \n",
      "32434197  ...   Regular customer  Female    Vermont   68                    3   \n",
      "32434198  ...   Regular customer  Female    Vermont   68                    3   \n",
      "32434199  ...   Regular customer  Female    Vermont   68                    3   \n",
      "32434200  ...   Regular customer  Female    Vermont   68                    3   \n",
      "\n",
      "         Marital_Status income _merge     Region exclusion_flag  \n",
      "0               married  49620   both    Midwest        Include  \n",
      "1               married  49620   both    Midwest        Include  \n",
      "2               married  49620   both    Midwest        Include  \n",
      "3               married  49620   both    Midwest        Include  \n",
      "4               married  49620   both    Midwest        Include  \n",
      "...                 ...    ...    ...        ...            ...  \n",
      "32434196        married  37867   both  Northeast        Include  \n",
      "32434197        married  37867   both  Northeast        Include  \n",
      "32434198        married  37867   both  Northeast        Include  \n",
      "32434199        married  37867   both  Northeast        Include  \n",
      "32434200        married  37867   both  Northeast        Include  \n",
      "\n",
      "[30992664 rows x 33 columns]\n"
     ]
    }
   ],
   "source": [
    "print(df_all_2_include)"
   ]
  },
  {
   "cell_type": "code",
   "execution_count": 57,
   "id": "e665306d",
   "metadata": {},
   "outputs": [],
   "source": [
    "# Update successful. The number of rows match the exclusion flag"
   ]
  },
  {
   "cell_type": "markdown",
   "id": "9fa67c58",
   "metadata": {},
   "source": [
    "##### Export file"
   ]
  },
  {
   "cell_type": "code",
   "execution_count": 91,
   "id": "53ee717d",
   "metadata": {},
   "outputs": [],
   "source": [
    "df_all_2_include.to_pickle(os.path.join(path, '02 Data', 'Prepared Data', 'inclusion_high_and_low_spenders.pkl'))"
   ]
  },
  {
   "cell_type": "markdown",
   "id": "de631f8e",
   "metadata": {},
   "source": [
    "###### Script continues in 4.10 (2)"
   ]
  }
 ],
 "metadata": {
  "kernelspec": {
   "display_name": "Python 3 (ipykernel)",
   "language": "python",
   "name": "python3"
  },
  "language_info": {
   "codemirror_mode": {
    "name": "ipython",
    "version": 3
   },
   "file_extension": ".py",
   "mimetype": "text/x-python",
   "name": "python",
   "nbconvert_exporter": "python",
   "pygments_lexer": "ipython3",
   "version": "3.11.5"
  }
 },
 "nbformat": 4,
 "nbformat_minor": 5
}
